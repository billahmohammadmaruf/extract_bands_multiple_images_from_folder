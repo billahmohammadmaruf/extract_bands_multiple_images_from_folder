{
 "cells": [
  {
   "cell_type": "code",
   "execution_count": null,
   "id": "a0549aa4",
   "metadata": {},
   "outputs": [],
   "source": [
    "import os\n",
    "import glob\n",
    "import rasterio\n",
    "\n",
    "# Function to extract specific bands\n",
    "def extract_bands(input_folder, output_folder, bands_to_extract):\n",
    "    # Get list of input files\n",
    "    input_files = glob.glob(os.path.join(input_folder, '*.tif'))\n",
    "\n",
    "    # Iterate through input files\n",
    "    for input_file in input_files:\n",
    "        with rasterio.open(input_file) as src:\n",
    "            # Read the raster data\n",
    "            raster_data = src.read()\n",
    "            # Get metadata\n",
    "            meta = src.meta\n",
    "\n",
    "            # Extract specific bands\n",
    "            extracted_bands = raster_data[bands_to_extract]\n",
    "\n",
    "            # Update metadata\n",
    "            meta['count'] = len(bands_to_extract)\n",
    "\n",
    "            # Create output filename\n",
    "            output_filename = os.path.join(output_folder, os.path.basename(input_file))\n",
    "\n",
    "            # Write extracted bands to output file\n",
    "            with rasterio.open(output_filename, 'w', **meta) as dst:\n",
    "                dst.write(extracted_bands)\n",
    "\n",
    "# Example usage\n",
    "input_folder = r'D:\\test\\in'\n",
    "output_folder = r'D:\\test\\out'\n",
    "\n",
    "# For Altum pt: [0, 1, 3, 4, 5]) # when total 7 bands processed at agisoft\n",
    "# For Altum pt: [0, 1, 3, 5, 6]) # when total 8 bands processed at agisoft\n",
    "# For Altum MSI: [0, 1, 2, 3, 4] # take first 5 bands processed at agisoft\n",
    "bands_to_extract = [0, 1, 3, 5, 6]  # Specify bands to extract (0-indexed)\n",
    "\n",
    "# Call function to extract bands\n",
    "extract_bands(input_folder, output_folder, bands_to_extract)\n",
    "\n"
   ]
  }
 ],
 "metadata": {
  "kernelspec": {
   "display_name": "Python 3 (ipykernel)",
   "language": "python",
   "name": "python3"
  },
  "language_info": {
   "codemirror_mode": {
    "name": "ipython",
    "version": 3
   },
   "file_extension": ".py",
   "mimetype": "text/x-python",
   "name": "python",
   "nbconvert_exporter": "python",
   "pygments_lexer": "ipython3",
   "version": "3.9.12"
  }
 },
 "nbformat": 4,
 "nbformat_minor": 5
}
